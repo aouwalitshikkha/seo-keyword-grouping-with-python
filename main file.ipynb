{
 "cells": [
  {
   "cell_type": "markdown",
   "id": "e578b3d4",
   "metadata": {},
   "source": [
    "Read Kw Files "
   ]
  },
  {
   "cell_type": "code",
   "execution_count": null,
   "id": "3f7c942e",
   "metadata": {},
   "outputs": [],
   "source": [
    "import os \n",
    "os.chdir(r'C:\\Users\\aouwa\\Desktop\\Tutorial\\Kw Grouping')"
   ]
  },
  {
   "cell_type": "code",
   "execution_count": null,
   "id": "599e1f17",
   "metadata": {},
   "outputs": [],
   "source": [
    "with open('kws.txt') as file:\n",
    "    kws = file.readlines()\n",
    "kws =[x.strip() for x in kws]"
   ]
  },
  {
   "cell_type": "markdown",
   "id": "72a531dd",
   "metadata": {},
   "source": [
    "## Import Libraries\n",
    "\n",
    "Library Name: NLTK, SKLEARN, PANDAS, NUMPY\n",
    "Download: NLTK Stopwords"
   ]
  },
  {
   "cell_type": "code",
   "execution_count": null,
   "id": "10330df5",
   "metadata": {},
   "outputs": [],
   "source": [
    "import pandas as pd\n",
    "import numpy as np\n",
    "from nltk.stem import PorterStemmer\n",
    "from nltk.corpus import stopwords\n",
    "from sklearn.feature_extraction.text import TfidfVectorizer\n",
    "from sklearn import cluster"
   ]
  },
  {
   "cell_type": "code",
   "execution_count": null,
   "id": "00930e51",
   "metadata": {},
   "outputs": [],
   "source": [
    "import nltk\n",
    "nltk.download('stopwords')"
   ]
  },
  {
   "cell_type": "code",
   "execution_count": null,
   "id": "dc0905fc",
   "metadata": {},
   "outputs": [],
   "source": [
    "stemmer = PorterStemmer()\n",
    "def tokenizer(keyword):\n",
    "    return [stemmer.stem(w) for w in keyword.split()]"
   ]
  },
  {
   "cell_type": "code",
   "execution_count": null,
   "id": "61305650",
   "metadata": {},
   "outputs": [],
   "source": [
    "sw = stopwords.words('english')"
   ]
  },
  {
   "cell_type": "code",
   "execution_count": null,
   "id": "3be1d4b8",
   "metadata": {},
   "outputs": [],
   "source": [
    "tfidf = TfidfVectorizer(tokenizer=tokenizer, stop_words= sw )"
   ]
  },
  {
   "cell_type": "code",
   "execution_count": null,
   "id": "a25c5e3f",
   "metadata": {},
   "outputs": [],
   "source": [
    "X = pd.DataFrame(tfidf.fit_transform(kws).toarray(), index=kws, columns = tfidf.get_feature_names())"
   ]
  },
  {
   "cell_type": "code",
   "execution_count": null,
   "id": "f1cae268",
   "metadata": {},
   "outputs": [],
   "source": [
    "c= cluster.AffinityPropagation()"
   ]
  },
  {
   "cell_type": "code",
   "execution_count": null,
   "id": "67034f9a",
   "metadata": {
    "scrolled": true
   },
   "outputs": [],
   "source": [
    "pred= c.fit_predict(X)"
   ]
  },
  {
   "cell_type": "code",
   "execution_count": null,
   "id": "73b18622",
   "metadata": {},
   "outputs": [],
   "source": [
    "X['pred'] = c.fit_predict(X)"
   ]
  },
  {
   "cell_type": "code",
   "execution_count": null,
   "id": "edc3c9dc",
   "metadata": {},
   "outputs": [],
   "source": [
    "X.to_csv('Grouped Kw.csv')"
   ]
  }
 ],
 "metadata": {
  "kernelspec": {
   "display_name": "Python 3 (ipykernel)",
   "language": "python",
   "name": "python3"
  },
  "language_info": {
   "codemirror_mode": {
    "name": "ipython",
    "version": 3
   },
   "file_extension": ".py",
   "mimetype": "text/x-python",
   "name": "python",
   "nbconvert_exporter": "python",
   "pygments_lexer": "ipython3",
   "version": "3.9.7"
  }
 },
 "nbformat": 4,
 "nbformat_minor": 5
}
